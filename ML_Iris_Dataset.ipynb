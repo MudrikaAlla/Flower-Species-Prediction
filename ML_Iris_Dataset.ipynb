{
  "nbformat": 4,
  "nbformat_minor": 0,
  "metadata": {
    "colab": {
      "name": "ML Iris Dataset.ipynb",
      "provenance": [],
      "collapsed_sections": []
    },
    "kernelspec": {
      "name": "python3",
      "display_name": "Python 3"
    }
  },
  "cells": [
    {
      "cell_type": "markdown",
      "metadata": {
        "id": "2ZFFHUk08uI3"
      },
      "source": [
        "**ML Model on IRIS Dataset**"
      ]
    },
    {
      "cell_type": "markdown",
      "metadata": {
        "id": "elZJaY4rqXEm"
      },
      "source": [
        "**Problem Statement:** A hobby botanist is distinguishing flowers based on the length and width of the sepals and petals of flowers. She and her friends created a database using their knowledge and research. She wants a machine learning model which can learn from the database she made and predict the species of a new, unknown flower based on it's features(sepal length, sepal width, petal length and petal width). With the help of this model, any person from any part of the world, can know from which species a given flower belongs to."
      ]
    },
    {
      "cell_type": "markdown",
      "metadata": {
        "id": "SrqfHdk1-ruO"
      },
      "source": [
        "**Importing pandas and numpy libraries:**"
      ]
    },
    {
      "cell_type": "code",
      "metadata": {
        "id": "KxJVWxjg-zq-"
      },
      "source": [
        "import pandas as pd\n",
        "import numpy as np"
      ],
      "execution_count": null,
      "outputs": []
    },
    {
      "cell_type": "markdown",
      "metadata": {
        "id": "cUY2W_2RAVSl"
      },
      "source": [
        "**Exploring the data:**"
      ]
    },
    {
      "cell_type": "markdown",
      "metadata": {
        "id": "47re0sDZtGgN"
      },
      "source": [
        "We are using the iris dataset which is included in scikit-learn's datasets module. We load the iris dataset by calling the load_iris function."
      ]
    },
    {
      "cell_type": "code",
      "metadata": {
        "id": "1O0VpdbX_B3s"
      },
      "source": [
        "from sklearn.datasets import load_iris\n",
        "iris_dataset = load_iris()"
      ],
      "execution_count": null,
      "outputs": []
    },
    {
      "cell_type": "markdown",
      "metadata": {
        "id": "Us0AlxnE_cOm"
      },
      "source": [
        "Printing the keys of iris_dataset:"
      ]
    },
    {
      "cell_type": "code",
      "metadata": {
        "id": "Yo9JD7eN_igk",
        "colab": {
          "base_uri": "https://localhost:8080/"
        },
        "outputId": "e346489a-3a49-460b-bd0c-7849fdc52f11"
      },
      "source": [
        "print(\"Keys of the iris dataset are:\\n{}\".format(iris_dataset.keys()));"
      ],
      "execution_count": null,
      "outputs": [
        {
          "output_type": "stream",
          "text": [
            "Keys of the iris dataset are:\n",
            "dict_keys(['data', 'target', 'target_names', 'DESCR', 'feature_names', 'filename'])\n"
          ],
          "name": "stdout"
        }
      ]
    },
    {
      "cell_type": "markdown",
      "metadata": {
        "id": "7lBtIhkF_m98"
      },
      "source": [
        "Printing the first 200 values inside iris_dataset's DESCR key:"
      ]
    },
    {
      "cell_type": "code",
      "metadata": {
        "id": "qwyHuDHJ_k-0",
        "colab": {
          "base_uri": "https://localhost:8080/"
        },
        "outputId": "0aa552da-e217-492c-86b7-e3bbe987d929"
      },
      "source": [
        "print(\"\\nDESCR's first 200 values:\\n{}\".format(iris_dataset['DESCR'][:200]))"
      ],
      "execution_count": null,
      "outputs": [
        {
          "output_type": "stream",
          "text": [
            "\n",
            "DESCR's first 200 values:\n",
            ".. _iris_dataset:\n",
            "\n",
            "Iris plants dataset\n",
            "--------------------\n",
            "\n",
            "**Data Set Characteristics:**\n",
            "\n",
            "    :Number of Instances: 150 (50 in each of three classes)\n",
            "    :Number of Attributes: 4 numeric, predictive\n"
          ],
          "name": "stdout"
        }
      ]
    },
    {
      "cell_type": "markdown",
      "metadata": {
        "id": "8gK-VhnB_-HG"
      },
      "source": [
        "Printing the values present in iris_dataset's target_names key:"
      ]
    },
    {
      "cell_type": "code",
      "metadata": {
        "id": "exuILYuVANTM",
        "colab": {
          "base_uri": "https://localhost:8080/"
        },
        "outputId": "637a01bc-ea76-4c0c-8f37-77bf745dc5f4"
      },
      "source": [
        "print(\"\\nTarget names:\\n{}\".format(iris_dataset['target_names']))"
      ],
      "execution_count": null,
      "outputs": [
        {
          "output_type": "stream",
          "text": [
            "\n",
            "Target names:\n",
            "['setosa' 'versicolor' 'virginica']\n"
          ],
          "name": "stdout"
        }
      ]
    },
    {
      "cell_type": "markdown",
      "metadata": {
        "id": "8kr5KiaHoHyw"
      },
      "source": [
        "Printing the values present in iris_dataset's feature_names key:"
      ]
    },
    {
      "cell_type": "code",
      "metadata": {
        "colab": {
          "base_uri": "https://localhost:8080/"
        },
        "id": "Hs4WizAPoM0z",
        "outputId": "3e0e125c-301b-4f7d-85fa-8ca5026f9bb4"
      },
      "source": [
        "print(\"\\nFeature names:\\n{}\".format(iris_dataset['feature_names']))"
      ],
      "execution_count": null,
      "outputs": [
        {
          "output_type": "stream",
          "text": [
            "\n",
            "Feature names:\n",
            "['sepal length (cm)', 'sepal width (cm)', 'petal length (cm)', 'petal width (cm)']\n"
          ],
          "name": "stdout"
        }
      ]
    },
    {
      "cell_type": "markdown",
      "metadata": {
        "id": "uypuco9poQLt"
      },
      "source": [
        "Printing the type of the \"data\" key of iris_dataset:"
      ]
    },
    {
      "cell_type": "code",
      "metadata": {
        "colab": {
          "base_uri": "https://localhost:8080/"
        },
        "id": "yeqUYT84ofNN",
        "outputId": "4ad4ea6f-a82a-40d2-bd5e-2aed615c9031"
      },
      "source": [
        "print(\"\\nType of data: {}\".format(type(iris_dataset['data'])))"
      ],
      "execution_count": null,
      "outputs": [
        {
          "output_type": "stream",
          "text": [
            "\n",
            "Type of data: <class 'numpy.ndarray'>\n"
          ],
          "name": "stdout"
        }
      ]
    },
    {
      "cell_type": "markdown",
      "metadata": {
        "id": "r6Ha5FPeokjd"
      },
      "source": [
        "Printing the shape of \"data\" key of the iris_dataset:"
      ]
    },
    {
      "cell_type": "code",
      "metadata": {
        "colab": {
          "base_uri": "https://localhost:8080/"
        },
        "id": "PHdVvRElok22",
        "outputId": "7287cb9f-9d71-4f55-8219-514bb95d0aca"
      },
      "source": [
        "print(\"\\nShape of data: {}\".format(iris_dataset['data'].shape))"
      ],
      "execution_count": null,
      "outputs": [
        {
          "output_type": "stream",
          "text": [
            "\n",
            "Shape of data: (150, 4)\n"
          ],
          "name": "stdout"
        }
      ]
    },
    {
      "cell_type": "markdown",
      "metadata": {
        "id": "aBcWoFVHouJF"
      },
      "source": [
        "Printing the first five columns of the \"data\" key of the iris_dataset:"
      ]
    },
    {
      "cell_type": "code",
      "metadata": {
        "colab": {
          "base_uri": "https://localhost:8080/"
        },
        "id": "4KcCnYG0ov9l",
        "outputId": "9213a4d3-e00b-4e13-8102-0e5c58d37af6"
      },
      "source": [
        "print(\"\\nFirst five columns of data are:\\n{}\".format(iris_dataset['data'][:5]))"
      ],
      "execution_count": null,
      "outputs": [
        {
          "output_type": "stream",
          "text": [
            "\n",
            "First five columns of data are:\n",
            "[[5.1 3.5 1.4 0.2]\n",
            " [4.9 3.  1.4 0.2]\n",
            " [4.7 3.2 1.3 0.2]\n",
            " [4.6 3.1 1.5 0.2]\n",
            " [5.  3.6 1.4 0.2]]\n"
          ],
          "name": "stdout"
        }
      ]
    },
    {
      "cell_type": "markdown",
      "metadata": {
        "id": "xFtKtwjQo6H1"
      },
      "source": [
        "Printing the type of the \"target\" key of the iris_dataset:"
      ]
    },
    {
      "cell_type": "code",
      "metadata": {
        "colab": {
          "base_uri": "https://localhost:8080/"
        },
        "id": "2oMyNGlGo6fD",
        "outputId": "40c1c49c-ca29-466f-bbb4-d74569f37a7d"
      },
      "source": [
        "print(\"\\nType of target: {}\".format(type(iris_dataset['target'])))"
      ],
      "execution_count": null,
      "outputs": [
        {
          "output_type": "stream",
          "text": [
            "\n",
            "Type of target: <class 'numpy.ndarray'>\n"
          ],
          "name": "stdout"
        }
      ]
    },
    {
      "cell_type": "markdown",
      "metadata": {
        "id": "aUQ7H6gEpJ88"
      },
      "source": [
        "Printing the shape of the \"target\" key of the iris_dataset:"
      ]
    },
    {
      "cell_type": "code",
      "metadata": {
        "colab": {
          "base_uri": "https://localhost:8080/"
        },
        "id": "Kr6UCAjQpK5N",
        "outputId": "ea0311f4-52f7-4974-9a00-a7fc29a25cda"
      },
      "source": [
        "print(\"\\nShape of target: {}\".format(iris_dataset['target'].shape))"
      ],
      "execution_count": null,
      "outputs": [
        {
          "output_type": "stream",
          "text": [
            "\n",
            "Shape of target: (150,)\n"
          ],
          "name": "stdout"
        }
      ]
    },
    {
      "cell_type": "markdown",
      "metadata": {
        "id": "-R-D8XLvpUeU"
      },
      "source": [
        "Printing all the values stored in the \"target\" key of the iris_dataset:"
      ]
    },
    {
      "cell_type": "code",
      "metadata": {
        "colab": {
          "base_uri": "https://localhost:8080/"
        },
        "id": "XTxrXLKjpU-0",
        "outputId": "5770a9e4-9ef9-421c-c144-b40ba622f805"
      },
      "source": [
        "print(\"\\nTarget: {}\".format(iris_dataset['target']))"
      ],
      "execution_count": null,
      "outputs": [
        {
          "output_type": "stream",
          "text": [
            "\n",
            "Target: [0 0 0 0 0 0 0 0 0 0 0 0 0 0 0 0 0 0 0 0 0 0 0 0 0 0 0 0 0 0 0 0 0 0 0 0 0\n",
            " 0 0 0 0 0 0 0 0 0 0 0 0 0 1 1 1 1 1 1 1 1 1 1 1 1 1 1 1 1 1 1 1 1 1 1 1 1\n",
            " 1 1 1 1 1 1 1 1 1 1 1 1 1 1 1 1 1 1 1 1 1 1 1 1 1 1 2 2 2 2 2 2 2 2 2 2 2\n",
            " 2 2 2 2 2 2 2 2 2 2 2 2 2 2 2 2 2 2 2 2 2 2 2 2 2 2 2 2 2 2 2 2 2 2 2 2 2\n",
            " 2 2]\n"
          ],
          "name": "stdout"
        }
      ]
    },
    {
      "cell_type": "markdown",
      "metadata": {
        "id": "BOqQfXEPprJX"
      },
      "source": [
        "Splitting the dataset into training and test data: \n",
        "From scikit learn framework, we are using a function \"train_test_split\" to split the dataset into training and testing datasets. X represents features, here sepal length, sepal width, petal length, and petal width. y represents the labels, here setosa, versicolor, and virginica. The dataset is split in such a way that 75% of the data is in the training set and the remaining 25% data is in testing set. (Random state is set to zero to ensure that everybody working on this will be getting a similar value.)"
      ]
    },
    {
      "cell_type": "code",
      "metadata": {
        "id": "tjWTpLImAW4F"
      },
      "source": [
        "from sklearn.model_selection import train_test_split\n",
        "X_train, X_test, y_train, y_test = train_test_split(iris_dataset['data'], \n",
        "                                        iris_dataset['target'], random_state=0)"
      ],
      "execution_count": null,
      "outputs": []
    },
    {
      "cell_type": "markdown",
      "metadata": {
        "id": "RI4hNW2fIDhZ"
      },
      "source": [
        "We are now checking the shape of X_train, y_train, X_test, y_test. (They are all numpy ndarrays)"
      ]
    },
    {
      "cell_type": "code",
      "metadata": {
        "colab": {
          "base_uri": "https://localhost:8080/"
        },
        "id": "4ignbOIhImTF",
        "outputId": "3a5b988d-7cc5-47dc-89c3-49b8249a73a3"
      },
      "source": [
        "print(\"X_train shape: {}\".format(X_train.shape))\n",
        "print(\"y_train shape: {}\".format(y_train.shape))\n",
        "print(\"X_test shape: {}\".format(X_test.shape))\n",
        "print(\"y_test shape: {}\".format(y_test.shape))"
      ],
      "execution_count": null,
      "outputs": [
        {
          "output_type": "stream",
          "text": [
            "X_train shape: (112, 4)\n",
            "y_train shape: (112,)\n",
            "X_test shape: (38, 4)\n",
            "y_test shape: (38,)\n"
          ],
          "name": "stdout"
        }
      ]
    },
    {
      "cell_type": "markdown",
      "metadata": {
        "id": "eK74377SJNFY"
      },
      "source": [
        "K-nearest neighbors model creation:"
      ]
    },
    {
      "cell_type": "code",
      "metadata": {
        "id": "e359bqZDROsO"
      },
      "source": [
        "from sklearn.neighbors import KNeighborsClassifier\n",
        "knn = KNeighborsClassifier(n_neighbors=1)"
      ],
      "execution_count": null,
      "outputs": []
    },
    {
      "cell_type": "markdown",
      "metadata": {
        "id": "3DrKJyjOR9Jg"
      },
      "source": [
        "Training the model: We are training the model by passing the training sets as arguments to the knn classifier using fit function."
      ]
    },
    {
      "cell_type": "code",
      "metadata": {
        "colab": {
          "base_uri": "https://localhost:8080/"
        },
        "id": "6tVtcBj4R-mH",
        "outputId": "c20f3dbc-59ea-4811-e393-8919cfa552ab"
      },
      "source": [
        "knn.fit(X_train,y_train)"
      ],
      "execution_count": null,
      "outputs": [
        {
          "output_type": "execute_result",
          "data": {
            "text/plain": [
              "KNeighborsClassifier(algorithm='auto', leaf_size=30, metric='minkowski',\n",
              "                     metric_params=None, n_jobs=None, n_neighbors=1, p=2,\n",
              "                     weights='uniform')"
            ]
          },
          "metadata": {
            "tags": []
          },
          "execution_count": 20
        }
      ]
    },
    {
      "cell_type": "markdown",
      "metadata": {
        "id": "IRpGWEgAWYmh"
      },
      "source": [
        "Making predictions: We are giving the model a new data for which even we might not know the labels."
      ]
    },
    {
      "cell_type": "code",
      "metadata": {
        "colab": {
          "base_uri": "https://localhost:8080/"
        },
        "id": "Cj5rdJw2Wyiv",
        "outputId": "6bf3f75b-283e-48f6-ebd4-83fe17b41281"
      },
      "source": [
        "X_new = np.array([[5, 2.9, 1, 0.2]])\n",
        "\n",
        "print(\"X_new's shape: {}\".format(X_new.shape))"
      ],
      "execution_count": null,
      "outputs": [
        {
          "output_type": "stream",
          "text": [
            "X_new's shape: (1, 4)\n"
          ],
          "name": "stdout"
        }
      ]
    },
    {
      "cell_type": "markdown",
      "metadata": {
        "id": "GWqND1Q_XbtQ"
      },
      "source": [
        "Now we're going to make preditions using the predict method of knn object"
      ]
    },
    {
      "cell_type": "code",
      "metadata": {
        "colab": {
          "base_uri": "https://localhost:8080/"
        },
        "id": "opq9sIH9XcJC",
        "outputId": "8f7359af-a484-44bb-e157-838c5ef4efe8"
      },
      "source": [
        "prediction = knn.predict(X_new)\n",
        "\n",
        "print(\"Prediction: {}\".format(prediction))\n",
        "print(\"Predicted target name: {}\".format(iris_dataset['target_names'][prediction]))"
      ],
      "execution_count": null,
      "outputs": [
        {
          "output_type": "stream",
          "text": [
            "Prediction: [0]\n",
            "Predicted target name: ['setosa']\n"
          ],
          "name": "stdout"
        }
      ]
    },
    {
      "cell_type": "markdown",
      "metadata": {
        "id": "aQsB_XM5YlQS"
      },
      "source": [
        "Evaluating the model: Data for which we know the labels are given to the machine for prediction. Based on what it predicts, we know the effficiency of the machine."
      ]
    },
    {
      "cell_type": "code",
      "metadata": {
        "colab": {
          "base_uri": "https://localhost:8080/"
        },
        "id": "K6hm_UUTYnr5",
        "outputId": "f8b7db3f-d30a-40f7-b553-9c701af38a41"
      },
      "source": [
        "y_pred = knn.predict(X_test)\n",
        "\n",
        "print(\"Predictions made on test set: \\n{}\".format(y_pred))"
      ],
      "execution_count": null,
      "outputs": [
        {
          "output_type": "stream",
          "text": [
            "Predictions made on test set: \n",
            "[2 1 0 2 0 2 0 1 1 1 2 1 1 1 1 0 1 1 0 0 2 1 0 0 2 0 0 1 1 0 2 1 0 2 2 1 0\n",
            " 2]\n"
          ],
          "name": "stdout"
        }
      ]
    },
    {
      "cell_type": "markdown",
      "metadata": {
        "id": "HBvzar7zZYSi"
      },
      "source": [
        "To check whether the predictions are correct or wrong: We are checking the accuracy of the model by comparing the prediction and test labels, taking a mean of the comparison results."
      ]
    },
    {
      "cell_type": "code",
      "metadata": {
        "colab": {
          "base_uri": "https://localhost:8080/"
        },
        "id": "S7lUFMOSZeJQ",
        "outputId": "2a30b965-cc4e-47be-a70a-2a240d6defa1"
      },
      "source": [
        "print(\"Test set score: {}\".format(np.mean(y_pred == y_test)))"
      ],
      "execution_count": null,
      "outputs": [
        {
          "output_type": "stream",
          "text": [
            "Test set score: 0.9736842105263158\n"
          ],
          "name": "stdout"
        }
      ]
    }
  ]
}